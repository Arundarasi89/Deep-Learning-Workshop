{
 "cells": [
  {
   "cell_type": "code",
   "execution_count": 1,
   "metadata": {
    "_cell_guid": "b1076dfc-b9ad-4769-8c92-a6c4dae69d19",
    "_uuid": "8f2839f25d086af736a60e9eeb907d3b93b6e0e5",
    "execution": {
     "iopub.execute_input": "2021-07-10T07:13:27.173966Z",
     "iopub.status.busy": "2021-07-10T07:13:27.173689Z",
     "iopub.status.idle": "2021-07-10T07:13:34.720087Z",
     "shell.execute_reply": "2021-07-10T07:13:34.718652Z",
     "shell.execute_reply.started": "2021-07-10T07:13:27.173938Z"
    }
   },
   "outputs": [],
   "source": [
    "import numpy as np\n",
    "import pandas as pd\n",
    "import matplotlib.pyplot as plt\n",
    "import tensorflow as tf"
   ]
  },
  {
   "cell_type": "code",
   "execution_count": 20,
   "metadata": {
    "execution": {
     "iopub.execute_input": "2021-07-10T07:27:18.123179Z",
     "iopub.status.busy": "2021-07-10T07:27:18.122897Z",
     "iopub.status.idle": "2021-07-10T07:27:26.876084Z",
     "shell.execute_reply": "2021-07-10T07:27:26.874771Z",
     "shell.execute_reply.started": "2021-07-10T07:27:18.123146Z"
    }
   },
   "outputs": [
    {
     "name": "stdout",
     "output_type": "stream",
     "text": [
      "Requirement already satisfied: tensorflow in /opt/conda/lib/python3.6/site-packages (2.1.0)\n",
      "Requirement already satisfied: tensorflow-estimator<2.2.0,>=2.1.0rc0 in /opt/conda/lib/python3.6/site-packages (from tensorflow) (2.1.0)\n",
      "Requirement already satisfied: numpy<2.0,>=1.16.0 in /opt/conda/lib/python3.6/site-packages (from tensorflow) (1.18.2)\n",
      "Requirement already satisfied: termcolor>=1.1.0 in /opt/conda/lib/python3.6/site-packages (from tensorflow) (1.1.0)\n",
      "Requirement already satisfied: wheel>=0.26; python_version >= \"3\" in /opt/conda/lib/python3.6/site-packages (from tensorflow) (0.34.2)\n",
      "Requirement already satisfied: astor>=0.6.0 in /opt/conda/lib/python3.6/site-packages (from tensorflow) (0.8.1)\n",
      "Requirement already satisfied: opt-einsum>=2.3.2 in /opt/conda/lib/python3.6/site-packages (from tensorflow) (3.2.0)\n",
      "Requirement already satisfied: protobuf>=3.8.0 in /opt/conda/lib/python3.6/site-packages (from tensorflow) (3.11.3)\n",
      "Requirement already satisfied: tensorboard<2.2.0,>=2.1.0 in /opt/conda/lib/python3.6/site-packages (from tensorflow) (2.1.1)\n",
      "Requirement already satisfied: google-pasta>=0.1.6 in /opt/conda/lib/python3.6/site-packages (from tensorflow) (0.2.0)\n",
      "Requirement already satisfied: six>=1.12.0 in /opt/conda/lib/python3.6/site-packages (from tensorflow) (1.14.0)\n",
      "Requirement already satisfied: wrapt>=1.11.1 in /opt/conda/lib/python3.6/site-packages (from tensorflow) (1.11.2)\n",
      "Requirement already satisfied: keras-preprocessing>=1.1.0 in /opt/conda/lib/python3.6/site-packages (from tensorflow) (1.1.0)\n",
      "Requirement already satisfied: scipy==1.4.1; python_version >= \"3\" in /opt/conda/lib/python3.6/site-packages (from tensorflow) (1.4.1)\n",
      "Requirement already satisfied: keras-applications>=1.0.8 in /opt/conda/lib/python3.6/site-packages (from tensorflow) (1.0.8)\n",
      "Requirement already satisfied: grpcio>=1.8.6 in /opt/conda/lib/python3.6/site-packages (from tensorflow) (1.27.2)\n",
      "Requirement already satisfied: absl-py>=0.7.0 in /opt/conda/lib/python3.6/site-packages (from tensorflow) (0.9.0)\n",
      "Requirement already satisfied: gast==0.2.2 in /opt/conda/lib/python3.6/site-packages (from tensorflow) (0.2.2)\n",
      "Requirement already satisfied: setuptools in /opt/conda/lib/python3.6/site-packages (from protobuf>=3.8.0->tensorflow) (46.1.3.post20200330)\n",
      "Requirement already satisfied: werkzeug>=0.11.15 in /opt/conda/lib/python3.6/site-packages (from tensorboard<2.2.0,>=2.1.0->tensorflow) (1.0.0)\n",
      "Requirement already satisfied: markdown>=2.6.8 in /opt/conda/lib/python3.6/site-packages (from tensorboard<2.2.0,>=2.1.0->tensorflow) (3.2.1)\n",
      "Requirement already satisfied: requests<3,>=2.21.0 in /opt/conda/lib/python3.6/site-packages (from tensorboard<2.2.0,>=2.1.0->tensorflow) (2.22.0)\n",
      "Requirement already satisfied: google-auth-oauthlib<0.5,>=0.4.1 in /opt/conda/lib/python3.6/site-packages (from tensorboard<2.2.0,>=2.1.0->tensorflow) (0.4.1)\n",
      "Requirement already satisfied: google-auth<2,>=1.6.3 in /opt/conda/lib/python3.6/site-packages (from tensorboard<2.2.0,>=2.1.0->tensorflow) (1.12.0)\n",
      "Requirement already satisfied: h5py in /opt/conda/lib/python3.6/site-packages (from keras-applications>=1.0.8->tensorflow) (2.10.0)\n",
      "Requirement already satisfied: idna<2.9,>=2.5 in /opt/conda/lib/python3.6/site-packages (from requests<3,>=2.21.0->tensorboard<2.2.0,>=2.1.0->tensorflow) (2.8)\n",
      "Requirement already satisfied: urllib3!=1.25.0,!=1.25.1,<1.26,>=1.21.1 in /opt/conda/lib/python3.6/site-packages (from requests<3,>=2.21.0->tensorboard<2.2.0,>=2.1.0->tensorflow) (1.24.3)\n",
      "Requirement already satisfied: certifi>=2017.4.17 in /opt/conda/lib/python3.6/site-packages (from requests<3,>=2.21.0->tensorboard<2.2.0,>=2.1.0->tensorflow) (2019.11.28)\n",
      "Requirement already satisfied: chardet<3.1.0,>=3.0.2 in /opt/conda/lib/python3.6/site-packages (from requests<3,>=2.21.0->tensorboard<2.2.0,>=2.1.0->tensorflow) (3.0.4)\n",
      "Requirement already satisfied: requests-oauthlib>=0.7.0 in /opt/conda/lib/python3.6/site-packages (from google-auth-oauthlib<0.5,>=0.4.1->tensorboard<2.2.0,>=2.1.0->tensorflow) (1.3.0)\n",
      "Requirement already satisfied: cachetools<5.0,>=2.0.0 in /opt/conda/lib/python3.6/site-packages (from google-auth<2,>=1.6.3->tensorboard<2.2.0,>=2.1.0->tensorflow) (4.0.0)\n",
      "Requirement already satisfied: rsa<4.1,>=3.1.4 in /opt/conda/lib/python3.6/site-packages (from google-auth<2,>=1.6.3->tensorboard<2.2.0,>=2.1.0->tensorflow) (4.0)\n",
      "Requirement already satisfied: pyasn1-modules>=0.2.1 in /opt/conda/lib/python3.6/site-packages (from google-auth<2,>=1.6.3->tensorboard<2.2.0,>=2.1.0->tensorflow) (0.2.8)\n",
      "Requirement already satisfied: oauthlib>=3.0.0 in /opt/conda/lib/python3.6/site-packages (from requests-oauthlib>=0.7.0->google-auth-oauthlib<0.5,>=0.4.1->tensorboard<2.2.0,>=2.1.0->tensorflow) (3.1.0)\n",
      "Requirement already satisfied: pyasn1>=0.1.3 in /opt/conda/lib/python3.6/site-packages (from rsa<4.1,>=3.1.4->google-auth<2,>=1.6.3->tensorboard<2.2.0,>=2.1.0->tensorflow) (0.4.8)\n"
     ]
    }
   ],
   "source": [
    "!pip install tensorflow"
   ]
  },
  {
   "cell_type": "markdown",
   "metadata": {},
   "source": [
    "### Load and data analysis\n",
    "\n",
    "First things first, load the training dataset. Although this is an image recognition task, the data comes in a csv format rather than a directory of PNGs/JPGs. The easiest way to load this data is to use pandas. We'll do this and have a look at the first row."
   ]
  },
  {
   "cell_type": "code",
   "execution_count": 3,
   "metadata": {
    "execution": {
     "iopub.execute_input": "2021-07-10T07:13:43.105999Z",
     "iopub.status.busy": "2021-07-10T07:13:43.105732Z",
     "iopub.status.idle": "2021-07-10T07:13:44.980340Z",
     "shell.execute_reply": "2021-07-10T07:13:44.979211Z",
     "shell.execute_reply.started": "2021-07-10T07:13:43.105972Z"
    }
   },
   "outputs": [
    {
     "name": "stdout",
     "output_type": "stream",
     "text": [
      "<class 'pandas.core.frame.DataFrame'>\n",
      "RangeIndex: 42000 entries, 0 to 41999\n",
      "Columns: 785 entries, label to pixel783\n",
      "dtypes: int64(785)\n",
      "memory usage: 251.5 MB\n",
      "None\n"
     ]
    }
   ],
   "source": [
    "data = pd.read_csv('../input/digit-recognizer/train.csv')\n",
    "print(data.info())"
   ]
  },
  {
   "cell_type": "markdown",
   "metadata": {},
   "source": [
    "So we can see that each row of data represents an image. Each image is made up 784 pixels (which is a 28x28 image). Each pixel is represented in the columns with a prefix of \"pixel\". These columns contain a number between 0 and 255 where 0 represents a white pixel, 255 a black pixel and the other numbers represent shades of grey.\n",
    "\n",
    "We also have a column called \"label\" that represents the number in the image (the images class). This number will be anything between 0 and 9.\n",
    "\n",
    "To test the model as it trains I will split the dataset into a training and validation dataset. Then I'll remove the labels from the datasets and put them into their own dataframes. I want to make a lot of the images available for training so taking some influence from other notebooks in this competition I'm going to go for a 90%-10% split."
   ]
  },
  {
   "cell_type": "code",
   "execution_count": 4,
   "metadata": {
    "execution": {
     "iopub.execute_input": "2021-07-10T07:13:48.113718Z",
     "iopub.status.busy": "2021-07-10T07:13:48.113420Z",
     "iopub.status.idle": "2021-07-10T07:13:48.165643Z",
     "shell.execute_reply": "2021-07-10T07:13:48.164960Z",
     "shell.execute_reply.started": "2021-07-10T07:13:48.113685Z"
    }
   },
   "outputs": [],
   "source": [
    "train_data = data.head(37800)\n",
    "val_data = data.tail(4200)\n",
    "\n",
    "train_labels = train_data.pop('label')\n",
    "val_labels = val_data.pop('label')"
   ]
  },
  {
   "cell_type": "code",
   "execution_count": 13,
   "metadata": {
    "execution": {
     "iopub.execute_input": "2021-07-10T07:17:21.106851Z",
     "iopub.status.busy": "2021-07-10T07:17:21.106565Z",
     "iopub.status.idle": "2021-07-10T07:17:21.115010Z",
     "shell.execute_reply": "2021-07-10T07:17:21.114296Z",
     "shell.execute_reply.started": "2021-07-10T07:17:21.106822Z"
    }
   },
   "outputs": [
    {
     "data": {
      "text/plain": [
       "0        1\n",
       "1        0\n",
       "2        1\n",
       "3        4\n",
       "4        0\n",
       "        ..\n",
       "37795    2\n",
       "37796    2\n",
       "37797    4\n",
       "37798    7\n",
       "37799    6\n",
       "Name: label, Length: 37800, dtype: int64"
      ]
     },
     "execution_count": 13,
     "metadata": {},
     "output_type": "execute_result"
    }
   ],
   "source": [
    "train_labels"
   ]
  },
  {
   "cell_type": "markdown",
   "metadata": {},
   "source": [
    "using Tensorflow to train an image classifier model. Tensorflow has it's own api for creating a data pipeline which makes it easier to feed the data into a Tensorflow model. To use this api the data needs to be loaded into a Tensorflow data object. "
   ]
  },
  {
   "cell_type": "code",
   "execution_count": 5,
   "metadata": {
    "execution": {
     "iopub.execute_input": "2021-07-10T07:13:50.876387Z",
     "iopub.status.busy": "2021-07-10T07:13:50.876110Z",
     "iopub.status.idle": "2021-07-10T07:13:51.083546Z",
     "shell.execute_reply": "2021-07-10T07:13:51.082620Z",
     "shell.execute_reply.started": "2021-07-10T07:13:50.876334Z"
    }
   },
   "outputs": [
    {
     "name": "stdout",
     "output_type": "stream",
     "text": [
      "<TensorSliceDataset shapes: ((784,), ()), types: (tf.int64, tf.int64)>\n",
      "<TensorSliceDataset shapes: ((784,), ()), types: (tf.int64, tf.int64)>\n"
     ]
    }
   ],
   "source": [
    "tf_train_data = tf.data.Dataset.from_tensor_slices((train_data.values, train_labels.values))\n",
    "tf_val_data = tf.data.Dataset.from_tensor_slices((val_data.values, val_labels.values))\n",
    "\n",
    "print(tf_train_data)\n",
    "print(tf_val_data)"
   ]
  },
  {
   "cell_type": "markdown",
   "metadata": {},
   "source": [
    "Before going on to form the data pipeline, I'll have a look at some of the images in the dataset and visualise them with their labels. As pixels for the images have been flattened into a 2D array, I have used a reshape function to put the images into a 28x28 shape that is more human friendly."
   ]
  },
  {
   "cell_type": "code",
   "execution_count": 6,
   "metadata": {
    "execution": {
     "iopub.execute_input": "2021-07-10T07:13:55.068230Z",
     "iopub.status.busy": "2021-07-10T07:13:55.067985Z",
     "iopub.status.idle": "2021-07-10T07:13:55.501532Z",
     "shell.execute_reply": "2021-07-10T07:13:55.500152Z",
     "shell.execute_reply.started": "2021-07-10T07:13:55.068207Z"
    }
   },
   "outputs": [
    {
     "data": {
      "image/png": "[encoded data removed]",
      "text/plain": [
       "<Figure size 720x720 with 5 Axes>"
      ]
     },
     "metadata": {},
     "output_type": "display_data"
    }
   ],
   "source": [
    "plt.figure(figsize=(10,10))\n",
    "i = 0\n",
    "\n",
    "for image, label in tf_train_data.take(5):\n",
    "    plt.subplot(1,5,i+1)\n",
    "    plt.xticks([])\n",
    "    plt.yticks([])\n",
    "    plt.grid(False)\n",
    "\n",
    "    plt.imshow(image.numpy().reshape((28, 28)), cmap='gray')\n",
    "    plt.xlabel(label.numpy())\n",
    "\n",
    "    i = i + 1"
   ]
  },
  {
   "cell_type": "markdown",
   "metadata": {},
   "source": [
    "### Data pipeline\n",
    "\n",
    "Now that the data is loaded and a quick piece of analysis has been done I am ready to form the pipeline that will feed the images into the model. The first step is to perform some small transformations to the images. I'll do the following to each image:\n",
    "\n",
    "1. **Reshape:** The images are currently formatted as a flat list of pixels. CNNs need the data to be reshaped into a 3D matrix which in this case is a 28x28 matrix. I also need to specify the channels. As these images are greyscale I only need the one. The shape of the data then is (28, 28, 1).\n",
    "2. **Scale:** Models seem to perform better when numeric features are put onto a 0-1 scale. As all the features are numeric and on a 0-255 scale it is easy to put the data onto this scale by simply dividing the features by 255."
   ]
  },
  {
   "cell_type": "code",
   "execution_count": 7,
   "metadata": {
    "execution": {
     "iopub.execute_input": "2021-07-10T07:14:00.562407Z",
     "iopub.status.busy": "2021-07-10T07:14:00.562098Z",
     "iopub.status.idle": "2021-07-10T07:14:00.752333Z",
     "shell.execute_reply": "2021-07-10T07:14:00.751421Z",
     "shell.execute_reply.started": "2021-07-10T07:14:00.562377Z"
    }
   },
   "outputs": [
    {
     "name": "stdout",
     "output_type": "stream",
     "text": [
      "<ParallelMapDataset shapes: ((28, 28, 1), ()), types: (tf.float32, tf.int64)>\n",
      "<ParallelMapDataset shapes: ((28, 28, 1), ()), types: (tf.float32, tf.int64)>\n"
     ]
    }
   ],
   "source": [
    "def preprocess_image(image, label):\n",
    "    image = tf.reshape(image, [28, 28, 1])\n",
    "    image = tf.cast(image, tf.float32) / 255.\n",
    "    \n",
    "    return image, label\n",
    "\n",
    "tf_train_data = tf_train_data.map(\n",
    "    preprocess_image, \n",
    "    num_parallel_calls=tf.data.experimental.AUTOTUNE\n",
    ")\n",
    "\n",
    "tf_val_data = tf_val_data.map(\n",
    "    preprocess_image, \n",
    "    num_parallel_calls=tf.data.experimental.AUTOTUNE\n",
    ")\n",
    "\n",
    "print(tf_train_data)\n",
    "print(tf_val_data)"
   ]
  },
  {
   "cell_type": "markdown",
   "metadata": {},
   "source": [
    "Now the data is preprocessed there are few configurations that can be made to the pipeline. Here's a list of those configurations:\n",
    "\n",
    "1. **Shuffle:** To make sure the model doesn't pick up anything from the order of the rows in the dataset the top 100 rows of data will be shuffled per training step. \n",
    "2. **Batch:** This is quite a large dataset in terms of both rows and columns. To ensure the processor doesn't get overloaded the data will be fed in 32 images at a time.\n",
    "3. **Prefetch:** The speed up the training the pipeline can be set to fetch the next batch of data while the current batch of data is in training. When the current step ends there is no time wasted loading the next batch as it is ready to go."
   ]
  },
  {
   "cell_type": "code",
   "execution_count": 8,
   "metadata": {
    "execution": {
     "iopub.execute_input": "2021-07-10T07:14:02.984433Z",
     "iopub.status.busy": "2021-07-10T07:14:02.984127Z",
     "iopub.status.idle": "2021-07-10T07:14:02.998381Z",
     "shell.execute_reply": "2021-07-10T07:14:02.996899Z",
     "shell.execute_reply.started": "2021-07-10T07:14:02.984403Z"
    }
   },
   "outputs": [
    {
     "name": "stdout",
     "output_type": "stream",
     "text": [
      "<PrefetchDataset shapes: ((None, 28, 28, 1), (None,)), types: (tf.float32, tf.int64)>\n",
      "<PrefetchDataset shapes: ((None, 28, 28, 1), (None,)), types: (tf.float32, tf.int64)>\n"
     ]
    }
   ],
   "source": [
    "def pipeline(tf_data):\n",
    "    tf_data = tf_data.shuffle(100)\n",
    "    tf_data = tf_data.batch(32)\n",
    "    tf_data = tf_data.prefetch(tf.data.experimental.AUTOTUNE)\n",
    "    \n",
    "    return tf_data\n",
    "\n",
    "tf_train_data = pipeline(tf_train_data)\n",
    "tf_val_data = pipeline(tf_val_data)\n",
    "\n",
    "print(tf_train_data)\n",
    "print(tf_val_data)"
   ]
  },
  {
   "cell_type": "markdown",
   "metadata": {},
   "source": [
    "### Train model\n",
    "\n",
    "The data is now ready to be fed into a model. I've chosen to use a CNN here and will be using an architecture based on the LeNet-5 architecture. I won't go into how CNNs work or why they are good for image classification tasks in this notebook. If you would like to learn more about them though I learnt about them on this [course](https://www.coursera.org/learn/convolutional-neural-networks?specialization=deep-learning) by Andrew Ng and I can't recommend it highly enough.\n",
    "\n",
    "Although I learnt about the LeNet-5 CNN architecture on the course and not by reading the paper it only seems right to quote the paper that LeNet-5 comes from:\n",
    "*\"LeCun et al., 1998, Gradient-based learning applied to document recognition\"*\n",
    "\n",
    "So without further ado I'll use Tensorflow to define the model. As you will see the model is much the same as the LeNet-5 model except for a few changes:\n",
    "\n",
    "1. All average pooling layers have been replaced with max pooling layers\n",
    "2. The input shape is slightly smaller than the 32x32 shape in the paper. The first convolutional layer uses \"same\" padding to ensure the data is in the same shape as it is in the paper by the time it hits the first pooling layer."
   ]
  },
  {
   "cell_type": "code",
   "execution_count": 9,
   "metadata": {
    "execution": {
     "iopub.execute_input": "2021-07-10T07:14:06.531619Z",
     "iopub.status.busy": "2021-07-10T07:14:06.531114Z",
     "iopub.status.idle": "2021-07-10T07:14:06.659763Z",
     "shell.execute_reply": "2021-07-10T07:14:06.658584Z",
     "shell.execute_reply.started": "2021-07-10T07:14:06.531580Z"
    }
   },
   "outputs": [],
   "source": [
    "model = tf.keras.Sequential([\n",
    "    tf.keras.layers.Conv2D(6, (5, 5), activation='relu', padding='same', input_shape=(28, 28, 1)),\n",
    "    tf.keras.layers.MaxPooling2D((2, 2)),\n",
    "    \n",
    "    tf.keras.layers.Conv2D(16, (5, 5), activation='relu', padding='valid'),\n",
    "    tf.keras.layers.MaxPooling2D((2, 2)),\n",
    "    \n",
    "    tf.keras.layers.Flatten(),\n",
    "    tf.keras.layers.Dense(120, activation='relu'),\n",
    "    tf.keras.layers.Dense(84, activation='relu'),\n",
    "    \n",
    "    tf.keras.layers.Dense(10, activation='softmax'),\n",
    "])"
   ]
  },
  {
   "cell_type": "markdown",
   "metadata": {},
   "source": [
    "Now I'll compile the model and get a print out describing it."
   ]
  },
  {
   "cell_type": "code",
   "execution_count": 10,
   "metadata": {
    "execution": {
     "iopub.execute_input": "2021-07-10T07:14:09.520690Z",
     "iopub.status.busy": "2021-07-10T07:14:09.520444Z",
     "iopub.status.idle": "2021-07-10T07:14:09.564114Z",
     "shell.execute_reply": "2021-07-10T07:14:09.562759Z",
     "shell.execute_reply.started": "2021-07-10T07:14:09.520666Z"
    }
   },
   "outputs": [
    {
     "name": "stdout",
     "output_type": "stream",
     "text": [
      "Model: \"sequential\"\n",
      "_________________________________________________________________\n",
      "Layer (type)                 Output Shape              Param #   \n",
      "=================================================================\n",
      "conv2d (Conv2D)              (None, 28, 28, 6)         156       \n",
      "_________________________________________________________________\n",
      "max_pooling2d (MaxPooling2D) (None, 14, 14, 6)         0         \n",
      "_________________________________________________________________\n",
      "conv2d_1 (Conv2D)            (None, 10, 10, 16)        2416      \n",
      "_________________________________________________________________\n",
      "max_pooling2d_1 (MaxPooling2 (None, 5, 5, 16)          0         \n",
      "_________________________________________________________________\n",
      "flatten (Flatten)            (None, 400)               0         \n",
      "_________________________________________________________________\n",
      "dense (Dense)                (None, 120)               48120     \n",
      "_________________________________________________________________\n",
      "dense_1 (Dense)              (None, 84)                10164     \n",
      "_________________________________________________________________\n",
      "dense_2 (Dense)              (None, 10)                850       \n",
      "=================================================================\n",
      "Total params: 61,706\n",
      "Trainable params: 61,706\n",
      "Non-trainable params: 0\n",
      "_________________________________________________________________\n"
     ]
    }
   ],
   "source": [
    "optimiser = tf.keras.optimizers.Adam(learning_rate=0.001)\n",
    "\n",
    "model.compile(\n",
    "    optimizer=optimiser, \n",
    "    loss='sparse_categorical_crossentropy', \n",
    "    metrics=['accuracy'])\n",
    "\n",
    "model.summary()"
   ]
  },
  {
   "cell_type": "markdown",
   "metadata": {},
   "source": [
    "Tensorflow has a piece of functionality called callbacks that enable us to monitor the models metrcis during training and take some action as a result. Using this functionality I will implement the following:\n",
    "\n",
    "1. **Learning Rate Decay:** If the models loss does not reduce for 2 consecutive epochs, reduce the learning rate. This should stop the model stepping over the optimum too many times.\n",
    "2. **Early Stopping:** If the models loss does not reduce for 5 consecutive epochs then it's clear the model is not learning anything anymore. Save some computation and stop training.\n",
    "\n",
    "Note: the verbose parameter simply states whether a message should be printed in the console (1) or not (0) when a callback is made."
   ]
  },
  {
   "cell_type": "code",
   "execution_count": 11,
   "metadata": {
    "execution": {
     "iopub.execute_input": "2021-07-10T07:14:12.954513Z",
     "iopub.status.busy": "2021-07-10T07:14:12.954250Z",
     "iopub.status.idle": "2021-07-10T07:14:12.957979Z",
     "shell.execute_reply": "2021-07-10T07:14:12.957568Z",
     "shell.execute_reply.started": "2021-07-10T07:14:12.954491Z"
    }
   },
   "outputs": [],
   "source": [
    "callbacks = [\n",
    "    tf.keras.callbacks.ReduceLROnPlateau(monitor='loss', patience=2, verbose=1),\n",
    "    tf.keras.callbacks.EarlyStopping(monitor='loss', patience=5, verbose=1),\n",
    "]"
   ]
  },
  {
   "cell_type": "markdown",
   "metadata": {},
   "source": [
    "With the model compiled and the data sitting ready in the pipeline it is time to train the model. The validation dataset has been included here so that the model validates its accuracy after each step by making predictions against the validation dataset.\n",
    "\n",
    "Note: Each epoch takes around 22 seconds to complete so this may take a few minutes to run depending on how many epochs this is run for."
   ]
  },
  {
   "cell_type": "code",
   "execution_count": 14,
   "metadata": {
    "execution": {
     "iopub.execute_input": "2021-07-10T07:17:46.374649Z",
     "iopub.status.busy": "2021-07-10T07:17:46.374429Z",
     "iopub.status.idle": "2021-07-10T07:20:35.840928Z",
     "shell.execute_reply": "2021-07-10T07:20:35.839891Z",
     "shell.execute_reply.started": "2021-07-10T07:17:46.374627Z"
    }
   },
   "outputs": [
    {
     "name": "stdout",
     "output_type": "stream",
     "text": [
      "Train for 1182 steps, validate for 132 steps\n",
      "Epoch 1/10\n",
      "1182/1182 [==============================] - 17s 14ms/step - loss: 0.0133 - accuracy: 0.9952 - val_loss: 0.0880 - val_accuracy: 0.9790\n",
      "Epoch 2/10\n",
      "1182/1182 [==============================] - 17s 14ms/step - loss: 0.0129 - accuracy: 0.9957 - val_loss: 0.0646 - val_accuracy: 0.9840\n",
      "Epoch 3/10\n",
      "1182/1182 [==============================] - 17s 14ms/step - loss: 0.0092 - accuracy: 0.9972 - val_loss: 0.0816 - val_accuracy: 0.9819\n",
      "Epoch 4/10\n",
      "1182/1182 [==============================] - 17s 14ms/step - loss: 0.0094 - accuracy: 0.9971 - val_loss: 0.0751 - val_accuracy: 0.9838\n",
      "Epoch 5/10\n",
      "1180/1182 [============================>.] - ETA: 0s - loss: 0.0104 - accuracy: 0.9967\n",
      "Epoch 00005: ReduceLROnPlateau reducing learning rate to 0.00010000000474974513.\n",
      "1182/1182 [==============================] - 17s 14ms/step - loss: 0.0104 - accuracy: 0.9967 - val_loss: 0.0538 - val_accuracy: 0.9857\n",
      "Epoch 6/10\n",
      "1182/1182 [==============================] - 17s 14ms/step - loss: 0.0034 - accuracy: 0.9990 - val_loss: 0.0420 - val_accuracy: 0.9905\n",
      "Epoch 7/10\n",
      "1182/1182 [==============================] - 17s 14ms/step - loss: 0.0011 - accuracy: 0.9998 - val_loss: 0.0431 - val_accuracy: 0.9902\n",
      "Epoch 8/10\n",
      "1182/1182 [==============================] - 17s 14ms/step - loss: 6.5820e-04 - accuracy: 0.9999 - val_loss: 0.0445 - val_accuracy: 0.9902\n",
      "Epoch 9/10\n",
      "1182/1182 [==============================] - 17s 14ms/step - loss: 4.0179e-04 - accuracy: 1.0000 - val_loss: 0.0466 - val_accuracy: 0.9907\n",
      "Epoch 10/10\n",
      "1182/1182 [==============================] - 17s 14ms/step - loss: 2.5006e-04 - accuracy: 1.0000 - val_loss: 0.0490 - val_accuracy: 0.9912\n"
     ]
    }
   ],
   "source": [
    "train_log = model.fit(\n",
    "    tf_train_data,\n",
    "    validation_data=tf_val_data,\n",
    "    epochs=10,\n",
    "    callbacks=callbacks\n",
    ")"
   ]
  },
  {
   "cell_type": "markdown",
   "metadata": {},
   "source": [
    "With the model trained I'll plot the accuracy achieved per epoch per dataset on a chart so that training progress is clearer."
   ]
  },
  {
   "cell_type": "code",
   "execution_count": 15,
   "metadata": {
    "execution": {
     "iopub.execute_input": "2021-07-10T07:23:40.089527Z",
     "iopub.status.busy": "2021-07-10T07:23:40.089255Z",
     "iopub.status.idle": "2021-07-10T07:23:40.224535Z",
     "shell.execute_reply": "2021-07-10T07:23:40.223591Z",
     "shell.execute_reply.started": "2021-07-10T07:23:40.089504Z"
    }
   },
   "outputs": [
    {
     "name": "stdout",
     "output_type": "stream",
     "text": [
      "Training accuracy: 1.000000\n",
      "Validation accuracy: 0.991190\n"
     ]
    },
    {
     "data": {
      "image/png": "[encoded data removed]",
      "text/plain": [
       "<Figure size 432x288 with 1 Axes>"
      ]
     },
     "metadata": {
      "needs_background": "light"
     },
     "output_type": "display_data"
    }
   ],
   "source": [
    "plt.plot(train_log.history['accuracy'], label='accuracy')\n",
    "plt.plot(train_log.history['val_accuracy'], label = 'val_accuracy')\n",
    "plt.xlabel('Epoch')\n",
    "plt.ylabel('Accuracy')\n",
    "plt.legend()\n",
    "\n",
    "print('Training accuracy: %f' % train_log.history['accuracy'][-1])\n",
    "print('Validation accuracy: %f' % train_log.history['val_accuracy'][-1])"
   ]
  },
  {
   "cell_type": "markdown",
   "metadata": {},
   "source": [
    "### Inference\n",
    "\n",
    "The final step is to use this trained model to classify the images in the test dataset. The first step is to load the training dataset and put it into the Tensorflow data format."
   ]
  },
  {
   "cell_type": "code",
   "execution_count": 16,
   "metadata": {
    "execution": {
     "iopub.execute_input": "2021-07-10T07:23:44.294706Z",
     "iopub.status.busy": "2021-07-10T07:23:44.294457Z",
     "iopub.status.idle": "2021-07-10T07:24:20.636901Z",
     "shell.execute_reply": "2021-07-10T07:24:20.635824Z",
     "shell.execute_reply.started": "2021-07-10T07:23:44.294682Z"
    }
   },
   "outputs": [],
   "source": [
    "test_data = pd.read_csv('../input/digit-recognizer/test.csv')\n",
    "tf_test_data = tf.data.Dataset.from_tensor_slices(([test_data.to_numpy().reshape(len(test_data), 28, 28, 1)]))"
   ]
  },
  {
   "cell_type": "markdown",
   "metadata": {},
   "source": [
    "Then use the model to classify each image. The model will not just output one class but will instead output a probability for each possible class. Numpys argmax is thus used to find the class with the highest probability and this class is used for the image."
   ]
  },
  {
   "cell_type": "code",
   "execution_count": 17,
   "metadata": {
    "execution": {
     "iopub.execute_input": "2021-07-10T07:24:20.639805Z",
     "iopub.status.busy": "2021-07-10T07:24:20.639449Z",
     "iopub.status.idle": "2021-07-10T07:24:22.964241Z",
     "shell.execute_reply": "2021-07-10T07:24:22.963023Z",
     "shell.execute_reply.started": "2021-07-10T07:24:20.639768Z"
    }
   },
   "outputs": [],
   "source": [
    "predictions = model.predict(tf_test_data)\n",
    "predictions = np.argmax(predictions, axis=1)"
   ]
  },
  {
   "cell_type": "markdown",
   "metadata": {},
   "source": [
    "To see if the model is performing as expected I will check visualisations of the first fifteen images against the classifications produced by the model."
   ]
  },
  {
   "cell_type": "code",
   "execution_count": 18,
   "metadata": {
    "execution": {
     "iopub.execute_input": "2021-07-10T07:24:22.965643Z",
     "iopub.status.busy": "2021-07-10T07:24:22.965442Z",
     "iopub.status.idle": "2021-07-10T07:24:23.596902Z",
     "shell.execute_reply": "2021-07-10T07:24:23.595566Z",
     "shell.execute_reply.started": "2021-07-10T07:24:22.965616Z"
    }
   },
   "outputs": [
    {
     "data": {
      "image/png": "[encoded data removed]",
      "text/plain": [
       "<Figure size 720x720 with 15 Axes>"
      ]
     },
     "metadata": {},
     "output_type": "display_data"
    }
   ],
   "source": [
    "plt.figure(figsize=(10,10))\n",
    "\n",
    "for i, row in test_data.head(15).iterrows():\n",
    "    plt.subplot(3,5,i+1)\n",
    "    plt.xticks([])\n",
    "    plt.yticks([])\n",
    "    plt.grid(False)\n",
    "\n",
    "    plt.imshow(row.values.reshape((28, 28)), cmap='gray')\n",
    "    plt.xlabel(predictions[i])"
   ]
  },
  {
   "cell_type": "markdown",
   "metadata": {},
   "source": [
    "While it is unfeasible to eyeball all 28000 test images and predicted classes, checking the first fifteen and seeing 98% accuracy on the validation dataset gives me some confidence that the model is performing well. The last thing to do then is to put the classifications into a submission dataframe and write it to a csv file."
   ]
  },
  {
   "cell_type": "code",
   "execution_count": 19,
   "metadata": {
    "execution": {
     "iopub.execute_input": "2021-07-10T07:24:23.598386Z",
     "iopub.status.busy": "2021-07-10T07:24:23.598153Z",
     "iopub.status.idle": "2021-07-10T07:24:23.605609Z",
     "shell.execute_reply": "2021-07-10T07:24:23.604608Z",
     "shell.execute_reply.started": "2021-07-10T07:24:23.598334Z"
    }
   },
   "outputs": [],
   "source": [
    "predictions_df = pd.DataFrame(data={'Label': predictions}, index=pd.RangeIndex(start=1, stop=28001))\n",
    "predictions_df.index = predictions_df.index.rename('ImageId')\n",
    "\n",
    "# predictions_df.to_csv('submission_file.csv')"
   ]
  },
  {
   "cell_type": "code",
   "execution_count": null,
   "metadata": {},
   "outputs": [],
   "source": []
  }
 ],
 "metadata": {
  "kernelspec": {
   "display_name": "Python 3",
   "language": "python",
   "name": "python3"
  },
  "language_info": {
   "codemirror_mode": {
    "name": "ipython",
    "version": 3
   },
   "file_extension": ".py",
   "mimetype": "text/x-python",
   "name": "python",
   "nbconvert_exporter": "python",
   "pygments_lexer": "ipython3",
   "version": "3.6.6"
  }
 },
 "nbformat": 4,
 "nbformat_minor": 4
}
